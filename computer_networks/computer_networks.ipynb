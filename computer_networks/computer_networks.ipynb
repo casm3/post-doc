{
 "cells": [
  {
   "cell_type": "markdown",
   "id": "388493e5-4e5e-42f4-ab52-5ed2e31fa730",
   "metadata": {},
   "source": [
    "## Hyperledger Fabric: A Performance Evaluation Framework Based on Transaction Flow and Endorsement Policies\n",
    "To be submitted to [Computer Networks](https://www.sciencedirect.com/journal/computer-networks) - TBD, 2024\n",
    "\n",
    "**Authors**: Carlos Melo, Glauber Gonçalves, Francisco A. Silva, Ericksulino Moura & André Soares\n",
    "\n",
    "**Abstract**: _Expected to be finished by September 30th, 2024_\n",
    "\n",
    "-----------------\n",
    "\n",
    "**Pre-Print unavailable**\n",
    "![purple-divider](https://user-images.githubusercontent.com/7065401/52071927-c1cd7100-2562-11e9-908a-dde91ba14e59.png)"
   ]
  },
  {
   "cell_type": "markdown",
   "id": "ae94be25-6e2b-4773-9aa8-f454e0393728",
   "metadata": {},
   "source": [
    "## Libraries"
   ]
  },
  {
   "cell_type": "code",
   "execution_count": 1,
   "id": "b64ea62f-48dd-4af6-80a6-8f67e9bd410d",
   "metadata": {},
   "outputs": [],
   "source": [
    "import pandas as pd\n",
    "import matplotlib.pyplot as plt\n",
    "%matplotlib inline"
   ]
  },
  {
   "cell_type": "code",
   "execution_count": null,
   "id": "43fbdfc5-1b4a-465c-be41-502314f49baa",
   "metadata": {},
   "outputs": [],
   "source": []
  }
 ],
 "metadata": {
  "kernelspec": {
   "display_name": "Python 3 (ipykernel)",
   "language": "python",
   "name": "python3"
  },
  "language_info": {
   "codemirror_mode": {
    "name": "ipython",
    "version": 3
   },
   "file_extension": ".py",
   "mimetype": "text/x-python",
   "name": "python",
   "nbconvert_exporter": "python",
   "pygments_lexer": "ipython3",
   "version": "3.9.6"
  }
 },
 "nbformat": 4,
 "nbformat_minor": 5
}
